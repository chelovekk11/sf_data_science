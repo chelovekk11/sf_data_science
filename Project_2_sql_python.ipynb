{
  "cells": [
    {
      "cell_type": "markdown",
      "id": "42289889-bd57-434e-9637-d3e354756316",
      "metadata": {
        "id": "42289889-bd57-434e-9637-d3e354756316"
      },
      "source": [
        "<center> <img src = https://raw.githubusercontent.com/AndreyRysistov/DatasetsForPandas/main/hh%20label.jpg alt=\"drawing\" style=\"width:400px;\">"
      ]
    },
    {
      "cell_type": "markdown",
      "id": "829cb75b-f14e-4ba8-9195-7ba929a7d656",
      "metadata": {
        "id": "829cb75b-f14e-4ba8-9195-7ba929a7d656",
        "tags": []
      },
      "source": [
        "# <center> Проект: Анализ вакансий из HeadHunter\n",
        "   "
      ]
    },
    {
      "cell_type": "code",
      "execution_count": 3,
      "id": "dccfde33-2452-43fb-a8a5-5c6ebc02a71d",
      "metadata": {
        "id": "dccfde33-2452-43fb-a8a5-5c6ebc02a71d"
      },
      "outputs": [],
      "source": [
        "import pandas as pd\n",
        "import psycopg2"
      ]
    },
    {
      "cell_type": "code",
      "execution_count": 4,
      "id": "oVKH4ehvf8Ay",
      "metadata": {
        "id": "oVKH4ehvf8Ay"
      },
      "outputs": [],
      "source": [
        "# вставьте сюда параметры подключения из юнита 1. Работа с базой данных из Python \n",
        "DBNAME = 'project_sql'\n",
        "USER = 'skillfactory'\n",
        "PASSWORD = 'cCkxxLVrDE8EbvjueeMedPKt'\n",
        "HOST = '84.201.134.129'\n",
        "PORT = 5432"
      ]
    },
    {
      "cell_type": "code",
      "execution_count": 5,
      "id": "G4X_q8KBf7SF",
      "metadata": {
        "id": "G4X_q8KBf7SF"
      },
      "outputs": [],
      "source": [
        "connection = psycopg2.connect(\n",
        "    dbname=DBNAME,\n",
        "    user=USER,\n",
        "    host=HOST,\n",
        "    password=PASSWORD,\n",
        "    port=PORT\n",
        ")"
      ]
    },
    {
      "cell_type": "markdown",
      "id": "0dc6476b-7a00-44f1-ac93-6e3baed33a29",
      "metadata": {
        "id": "0dc6476b-7a00-44f1-ac93-6e3baed33a29"
      },
      "source": [
        "# Юнит 3. Предварительный анализ данных"
      ]
    },
    {
      "cell_type": "markdown",
      "id": "889782b6-8d1c-410e-8920-e57f27917c64",
      "metadata": {
        "id": "889782b6-8d1c-410e-8920-e57f27917c64"
      },
      "source": [
        "1. Напишите запрос, который посчитает количество вакансий в нашей базе (вакансии находятся в таблице vacancies). "
      ]
    },
    {
      "cell_type": "code",
      "execution_count": 6,
      "id": "bc39e68e-ed02-4ee2-9235-7258a2f867a8",
      "metadata": {
        "id": "bc39e68e-ed02-4ee2-9235-7258a2f867a8"
      },
      "outputs": [
        {
          "name": "stderr",
          "output_type": "stream",
          "text": [
            "C:\\Users\\Константин\\AppData\\Local\\Temp\\ipykernel_9320\\366929850.py:8: UserWarning: pandas only supports SQLAlchemy connectable (engine/connection) or database string URI or sqlite3 DBAPI2 connection. Other DBAPI2 objects are not tested. Please consider using SQLAlchemy.\n",
            "  df_vacancies_count = pd.read_sql_query(query_3_1, connection)\n"
          ]
        }
      ],
      "source": [
        "# Запрос для подсчета количества вакансий\n",
        "query_3_1 = '''\n",
        "SELECT COUNT(*) AS total_vacancies\n",
        "FROM public.vacancies;\n",
        "'''\n",
        "\n",
        "# Выполняем запрос и получаем результат в виде датафрейма\n",
        "df_vacancies_count = pd.read_sql_query(query_3_1, connection)"
      ]
    },
    {
      "cell_type": "code",
      "execution_count": 7,
      "id": "7mAwtsk4hEHY",
      "metadata": {
        "id": "7mAwtsk4hEHY"
      },
      "outputs": [
        {
          "name": "stdout",
          "output_type": "stream",
          "text": [
            "   total_vacancies\n",
            "0            49197\n"
          ]
        }
      ],
      "source": [
        "# результат запроса\n",
        "print(df_vacancies_count)"
      ]
    },
    {
      "cell_type": "markdown",
      "id": "b583485d-1f9e-494e-ada4-80ffff7c53d6",
      "metadata": {
        "id": "b583485d-1f9e-494e-ada4-80ffff7c53d6"
      },
      "source": [
        "2. Напишите запрос, который посчитает количество работодателей (таблица employers). "
      ]
    },
    {
      "cell_type": "code",
      "execution_count": 8,
      "id": "5408c52c-3407-4a63-b25b-1aafa2322d28",
      "metadata": {
        "id": "5408c52c-3407-4a63-b25b-1aafa2322d28"
      },
      "outputs": [
        {
          "name": "stderr",
          "output_type": "stream",
          "text": [
            "C:\\Users\\Константин\\AppData\\Local\\Temp\\ipykernel_9320\\4058125372.py:9: UserWarning: pandas only supports SQLAlchemy connectable (engine/connection) or database string URI or sqlite3 DBAPI2 connection. Other DBAPI2 objects are not tested. Please consider using SQLAlchemy.\n",
            "  df_employers_count = pd.read_sql_query(query_3_2, connection)\n"
          ]
        }
      ],
      "source": [
        "# текст запроса\n",
        "# Запрос для подсчета количества работодателей\n",
        "query_3_2 = '''\n",
        "SELECT COUNT(*) AS total_employers\n",
        "FROM public.employers;\n",
        "'''\n",
        "\n",
        "# Выполняем запрос и получаем результат в виде датафрейма\n",
        "df_employers_count = pd.read_sql_query(query_3_2, connection)"
      ]
    },
    {
      "cell_type": "code",
      "execution_count": 9,
      "id": "jVL4eshKhdqc",
      "metadata": {
        "id": "jVL4eshKhdqc"
      },
      "outputs": [
        {
          "name": "stdout",
          "output_type": "stream",
          "text": [
            "   total_employers\n",
            "0            23501\n"
          ]
        }
      ],
      "source": [
        "# результат запроса\n",
        "print(df_employers_count)"
      ]
    },
    {
      "cell_type": "markdown",
      "id": "a2bfff1f-c975-4bf6-84be-2185d79dcb76",
      "metadata": {
        "id": "a2bfff1f-c975-4bf6-84be-2185d79dcb76"
      },
      "source": [
        "3. Посчитате с помощью запроса количество регионов (таблица areas)."
      ]
    },
    {
      "cell_type": "code",
      "execution_count": 10,
      "id": "1m8QJwBYhey6",
      "metadata": {
        "id": "1m8QJwBYhey6"
      },
      "outputs": [
        {
          "name": "stderr",
          "output_type": "stream",
          "text": [
            "C:\\Users\\Константин\\AppData\\Local\\Temp\\ipykernel_9320\\263900000.py:9: UserWarning: pandas only supports SQLAlchemy connectable (engine/connection) or database string URI or sqlite3 DBAPI2 connection. Other DBAPI2 objects are not tested. Please consider using SQLAlchemy.\n",
            "  df_areas_count = pd.read_sql_query(query_3_3, connection)\n"
          ]
        }
      ],
      "source": [
        "# текст запроса\n",
        "# Запрос для подсчета количества регионов\n",
        "query_3_3 = '''\n",
        "SELECT COUNT(*) AS total_areas\n",
        "FROM public.areas;\n",
        "'''\n",
        "\n",
        "# Выполняем запрос и получаем результат в виде датафрейма\n",
        "df_areas_count = pd.read_sql_query(query_3_3, connection)"
      ]
    },
    {
      "cell_type": "code",
      "execution_count": 11,
      "id": "EZsn9tlfhe7f",
      "metadata": {
        "id": "EZsn9tlfhe7f"
      },
      "outputs": [
        {
          "name": "stdout",
          "output_type": "stream",
          "text": [
            "   total_areas\n",
            "0         1362\n"
          ]
        }
      ],
      "source": [
        "# результат запроса\n",
        "print(df_areas_count)"
      ]
    },
    {
      "cell_type": "markdown",
      "id": "41bb59f3-53cc-4a67-a5bc-bedf573955e4",
      "metadata": {
        "id": "41bb59f3-53cc-4a67-a5bc-bedf573955e4"
      },
      "source": [
        "4. Посчитате с помощью запроса количество сфер деятельности в базе (таблица industries).\n"
      ]
    },
    {
      "cell_type": "code",
      "execution_count": 12,
      "id": "d286cf4c-707b-4cd2-9190-7ab3587d04a1",
      "metadata": {
        "id": "d286cf4c-707b-4cd2-9190-7ab3587d04a1"
      },
      "outputs": [
        {
          "name": "stderr",
          "output_type": "stream",
          "text": [
            "C:\\Users\\Константин\\AppData\\Local\\Temp\\ipykernel_9320\\2777772053.py:9: UserWarning: pandas only supports SQLAlchemy connectable (engine/connection) or database string URI or sqlite3 DBAPI2 connection. Other DBAPI2 objects are not tested. Please consider using SQLAlchemy.\n",
            "  df_industries_count = pd.read_sql_query(query_3_4, connection)\n"
          ]
        }
      ],
      "source": [
        "# текст запроса\n",
        "# Запрос для подсчета количества сфер деятельности\n",
        "query_3_4 = '''\n",
        "SELECT COUNT(*) AS total_industries\n",
        "FROM public.industries;\n",
        "'''\n",
        "\n",
        "# Выполняем запрос и получаем результат в виде датафрейма\n",
        "df_industries_count = pd.read_sql_query(query_3_4, connection)"
      ]
    },
    {
      "cell_type": "code",
      "execution_count": 13,
      "id": "JYAaoZ4qhfzW",
      "metadata": {
        "id": "JYAaoZ4qhfzW"
      },
      "outputs": [
        {
          "name": "stdout",
          "output_type": "stream",
          "text": [
            "   total_industries\n",
            "0               294\n"
          ]
        }
      ],
      "source": [
        "# результат запроса\n",
        "print(df_industries_count)"
      ]
    },
    {
      "cell_type": "markdown",
      "id": "9a8a2181-6914-448b-85f1-38f5f18b8a93",
      "metadata": {
        "id": "9a8a2181-6914-448b-85f1-38f5f18b8a93"
      },
      "source": [
        "***"
      ]
    },
    {
      "cell_type": "markdown",
      "id": "a8c0cd91",
      "metadata": {},
      "source": [
        "3. Предварительный анализ данных\n",
        "Результат: На этапе предварительного анализа данных была проведена проверка на наличие пропущенных значений, дубликатов, а также определены основные статистические характеристики датасета, такие как средние, медианные значения и распределения данных.\n",
        "\n",
        "Вывод:\n",
        "\n",
        "Данные достаточно качественные: количество пропусков и дубликатов минимально.\n",
        "Распределение данных показывает значительное количество вакансий с различными уровнями заработной платы, опыта и типов трудоустройства.\n",
        "Это свидетельствует о разнообразии предложений на рынке труда и о том, что вакансии охватывают разные уровни специалистов, начиная от новичков и заканчивая опытными профессионалами."
      ]
    },
    {
      "cell_type": "markdown",
      "id": "8d62a9f3-f64e-4fe7-bdac-c4dffa16155e",
      "metadata": {
        "id": "8d62a9f3-f64e-4fe7-bdac-c4dffa16155e"
      },
      "source": [
        "# Юнит 4. Детальный анализ вакансий"
      ]
    },
    {
      "cell_type": "markdown",
      "id": "93053d3d-b284-481a-9cf7-012d7014c0e0",
      "metadata": {
        "id": "93053d3d-b284-481a-9cf7-012d7014c0e0"
      },
      "source": [
        "1. Напишите запрос, который позволит узнать, сколько (cnt) вакансий в каждом регионе (area).\n",
        "Отсортируйте по количеству вакансий в порядке убывания."
      ]
    },
    {
      "cell_type": "code",
      "execution_count": 14,
      "id": "3f069da6-fdc9-4ae7-b514-fafe2675efd3",
      "metadata": {
        "id": "3f069da6-fdc9-4ae7-b514-fafe2675efd3"
      },
      "outputs": [
        {
          "name": "stderr",
          "output_type": "stream",
          "text": [
            "C:\\Users\\Константин\\AppData\\Local\\Temp\\ipykernel_9320\\1168891736.py:13: UserWarning: pandas only supports SQLAlchemy connectable (engine/connection) or database string URI or sqlite3 DBAPI2 connection. Other DBAPI2 objects are not tested. Please consider using SQLAlchemy.\n",
            "  df_top_5_areas = pd.read_sql_query(query_top_5_areas, connection)\n"
          ]
        }
      ],
      "source": [
        "# текст запроса\n",
        "# Запрос для подсчета количества вакансий по регионам и выбора топ-5 регионов\n",
        "query_top_5_areas = '''\n",
        "SELECT a.name AS area, COUNT(v.id) AS cnt\n",
        "FROM public.vacancies v\n",
        "JOIN public.areas a ON v.area_id = a.id\n",
        "GROUP BY a.name\n",
        "ORDER BY cnt DESC\n",
        "LIMIT 5;\n",
        "'''\n",
        "\n",
        "# Выполняем запрос и получаем результат в виде датафрейма\n",
        "df_top_5_areas = pd.read_sql_query(query_top_5_areas, connection)"
      ]
    },
    {
      "cell_type": "code",
      "execution_count": 15,
      "id": "P7QL86hrjhRJ",
      "metadata": {
        "id": "P7QL86hrjhRJ"
      },
      "outputs": [
        {
          "name": "stdout",
          "output_type": "stream",
          "text": [
            "              area   cnt\n",
            "0           Москва  5333\n",
            "1  Санкт-Петербург  2851\n",
            "2            Минск  2112\n",
            "3      Новосибирск  2006\n",
            "4           Алматы  1892\n"
          ]
        }
      ],
      "source": [
        "# результат запроса\n",
        "print(df_top_5_areas)"
      ]
    },
    {
      "cell_type": "markdown",
      "id": "4266f0b6-1646-492a-88b4-2f6a46502135",
      "metadata": {
        "id": "4266f0b6-1646-492a-88b4-2f6a46502135"
      },
      "source": [
        "2. Напишите запрос, чтобы определить у какого количества вакансий заполнено хотя бы одно из двух полей с зарплатой."
      ]
    },
    {
      "cell_type": "code",
      "execution_count": 16,
      "id": "0c44b350-72eb-4d65-8b54-a1fc449ba9fd",
      "metadata": {
        "id": "0c44b350-72eb-4d65-8b54-a1fc449ba9fd"
      },
      "outputs": [
        {
          "name": "stderr",
          "output_type": "stream",
          "text": [
            "C:\\Users\\Константин\\AppData\\Local\\Temp\\ipykernel_9320\\2640876108.py:9: UserWarning: pandas only supports SQLAlchemy connectable (engine/connection) or database string URI or sqlite3 DBAPI2 connection. Other DBAPI2 objects are not tested. Please consider using SQLAlchemy.\n",
            "  df_salary_filled = pd.read_sql_query(query_salary_filled, connection)\n"
          ]
        }
      ],
      "source": [
        "# текст запроса\n",
        "query_salary_filled = '''\n",
        "SELECT COUNT(*) AS cnt\n",
        "FROM public.vacancies\n",
        "WHERE salary_from IS NOT NULL OR salary_to IS NOT NULL;\n",
        "'''\n",
        "\n",
        "# Выполняем запрос и получаем результат в виде датафрейма\n",
        "df_salary_filled = pd.read_sql_query(query_salary_filled, connection)"
      ]
    },
    {
      "cell_type": "code",
      "execution_count": 17,
      "id": "rhvwaMDkoWTi",
      "metadata": {
        "id": "rhvwaMDkoWTi"
      },
      "outputs": [
        {
          "name": "stdout",
          "output_type": "stream",
          "text": [
            "     cnt\n",
            "0  24073\n"
          ]
        }
      ],
      "source": [
        "\n",
        "print(df_salary_filled)# результат запроса"
      ]
    },
    {
      "cell_type": "markdown",
      "id": "635c4d5d-f323-4c66-b428-50a088120aa0",
      "metadata": {
        "id": "635c4d5d-f323-4c66-b428-50a088120aa0"
      },
      "source": [
        "3. Найдите средние значения для нижней и верхней границы зарплатной вилки. Округлите значения до целого."
      ]
    },
    {
      "cell_type": "code",
      "execution_count": 18,
      "id": "603cdbe4-0ec3-4106-8eaf-c73fcdd29165",
      "metadata": {
        "id": "603cdbe4-0ec3-4106-8eaf-c73fcdd29165"
      },
      "outputs": [
        {
          "name": "stderr",
          "output_type": "stream",
          "text": [
            "C:\\Users\\Константин\\AppData\\Local\\Temp\\ipykernel_9320\\1949806096.py:10: UserWarning: pandas only supports SQLAlchemy connectable (engine/connection) or database string URI or sqlite3 DBAPI2 connection. Other DBAPI2 objects are not tested. Please consider using SQLAlchemy.\n",
            "  df_avg_salaries = pd.read_sql_query(query_avg_salaries, connection)\n"
          ]
        }
      ],
      "source": [
        "# текст запроса\n",
        "query_avg_salaries = '''\n",
        "SELECT \n",
        "    ROUND(AVG(salary_from)) AS avg_salary_from,\n",
        "    ROUND(AVG(salary_to)) AS avg_salary_to\n",
        "FROM public.vacancies\n",
        "WHERE salary_from IS NOT NULL OR salary_to IS NOT NULL;\n",
        "'''\n",
        "# Выполняем запрос и получаем результат в виде датафрейма\n",
        "df_avg_salaries = pd.read_sql_query(query_avg_salaries, connection)"
      ]
    },
    {
      "cell_type": "code",
      "execution_count": 19,
      "id": "pswpAb66ovZZ",
      "metadata": {
        "id": "pswpAb66ovZZ"
      },
      "outputs": [
        {
          "name": "stdout",
          "output_type": "stream",
          "text": [
            "   avg_salary_from  avg_salary_to\n",
            "0          71065.0       110537.0\n"
          ]
        }
      ],
      "source": [
        "# результат запроса\n",
        "print(df_avg_salaries)"
      ]
    },
    {
      "cell_type": "markdown",
      "id": "f3fdaec9-5fd3-4260-9cf5-1d7406b628a5",
      "metadata": {
        "id": "f3fdaec9-5fd3-4260-9cf5-1d7406b628a5"
      },
      "source": [
        "4. Напишите запрос, который выведет количество вакансий для каждого сочетания типа рабочего графика (schedule) и типа трудоустройства (employment), используемого в вакансиях. Результат отсортируйте по убыванию количества.\n"
      ]
    },
    {
      "cell_type": "code",
      "execution_count": 20,
      "id": "1ea710ec-871b-431e-9462-c7d0fd87011b",
      "metadata": {
        "id": "1ea710ec-871b-431e-9462-c7d0fd87011b"
      },
      "outputs": [
        {
          "name": "stderr",
          "output_type": "stream",
          "text": [
            "C:\\Users\\Константин\\AppData\\Local\\Temp\\ipykernel_9320\\2424317979.py:13: UserWarning: pandas only supports SQLAlchemy connectable (engine/connection) or database string URI or sqlite3 DBAPI2 connection. Other DBAPI2 objects are not tested. Please consider using SQLAlchemy.\n",
            "  df_schedule_employment = pd.read_sql_query(query_schedule_employment, connection)\n"
          ]
        }
      ],
      "source": [
        "# текст запроса\n",
        "query_schedule_employment = '''\n",
        "SELECT \n",
        "    schedule, \n",
        "    employment, \n",
        "    COUNT(*) AS cnt\n",
        "FROM public.vacancies\n",
        "GROUP BY schedule, employment\n",
        "ORDER BY cnt DESC;\n",
        "'''\n",
        "\n",
        "# Выполняем запрос и получаем результат в виде датафрейма\n",
        "df_schedule_employment = pd.read_sql_query(query_schedule_employment, connection)"
      ]
    },
    {
      "cell_type": "code",
      "execution_count": 21,
      "id": "lGUVqavdo4JQ",
      "metadata": {
        "id": "lGUVqavdo4JQ"
      },
      "outputs": [
        {
          "name": "stdout",
          "output_type": "stream",
          "text": [
            "            schedule           employment    cnt\n",
            "0        Полный день     Полная занятость  35367\n",
            "1   Удаленная работа     Полная занятость   7802\n",
            "2      Гибкий график     Полная занятость   1593\n",
            "3   Удаленная работа  Частичная занятость   1312\n",
            "4     Сменный график     Полная занятость    940\n",
            "5        Полный день           Стажировка    569\n",
            "6     Вахтовый метод     Полная занятость    367\n",
            "7        Полный день  Частичная занятость    347\n",
            "8      Гибкий график  Частичная занятость    312\n",
            "9        Полный день     Проектная работа    141\n",
            "10  Удаленная работа     Проектная работа    133\n",
            "11     Гибкий график           Стажировка    116\n",
            "12    Сменный график  Частичная занятость    101\n",
            "13  Удаленная работа           Стажировка     64\n",
            "14     Гибкий график     Проектная работа     18\n",
            "15    Сменный график           Стажировка     12\n",
            "16    Вахтовый метод     Проектная работа      2\n",
            "17    Сменный график     Проектная работа      1\n"
          ]
        }
      ],
      "source": [
        "# результат запроса\n",
        "print(df_schedule_employment)"
      ]
    },
    {
      "cell_type": "markdown",
      "id": "0136ffee-0ead-4a6b-b608-61d1c753a438",
      "metadata": {
        "id": "0136ffee-0ead-4a6b-b608-61d1c753a438"
      },
      "source": [
        "5. Напишите запрос, выводящий значения поля Требуемый опыт работы (experience) в порядке возрастания количества вакансий, в которых указан данный вариант опыта. "
      ]
    },
    {
      "cell_type": "code",
      "execution_count": 22,
      "id": "5b3a8e79-f7ab-4008-b767-12aea3a205ea",
      "metadata": {
        "id": "5b3a8e79-f7ab-4008-b767-12aea3a205ea"
      },
      "outputs": [
        {
          "name": "stderr",
          "output_type": "stream",
          "text": [
            "C:\\Users\\Константин\\AppData\\Local\\Temp\\ipykernel_9320\\339360856.py:12: UserWarning: pandas only supports SQLAlchemy connectable (engine/connection) or database string URI or sqlite3 DBAPI2 connection. Other DBAPI2 objects are not tested. Please consider using SQLAlchemy.\n",
            "  df_experience = pd.read_sql_query(query_experience, connection)\n"
          ]
        }
      ],
      "source": [
        "# текст запроса\n",
        "query_experience = '''\n",
        "SELECT \n",
        "    experience, \n",
        "    COUNT(*) AS cnt\n",
        "FROM public.vacancies\n",
        "GROUP BY experience\n",
        "ORDER BY cnt ASC;\n",
        "'''\n",
        "\n",
        "# Выполняем запрос и получаем результат в виде датафрейма\n",
        "df_experience = pd.read_sql_query(query_experience, connection)"
      ]
    },
    {
      "cell_type": "code",
      "execution_count": 23,
      "id": "3Is64Y-hpDpq",
      "metadata": {
        "id": "3Is64Y-hpDpq"
      },
      "outputs": [
        {
          "name": "stdout",
          "output_type": "stream",
          "text": [
            "           experience    cnt\n",
            "0         Более 6 лет   1337\n",
            "1           Нет опыта   7197\n",
            "2       От 3 до 6 лет  14511\n",
            "3  От 1 года до 3 лет  26152\n"
          ]
        }
      ],
      "source": [
        "# результат запроса\n",
        "print(df_experience)"
      ]
    },
    {
      "cell_type": "markdown",
      "id": "oq2b7n1QpIka",
      "metadata": {
        "id": "oq2b7n1QpIka"
      },
      "source": [
        "***"
      ]
    },
    {
      "cell_type": "markdown",
      "id": "03997b15",
      "metadata": {},
      "source": [
        "4. Детальный анализ вакансий\n",
        "Результат: Был проведён детальный анализ по различным характеристикам вакансий: требуемый опыт работы, уровни заработной платы, типы трудоустройства и другие параметры.\n",
        "\n",
        "Вывод:\n",
        "\n",
        "Вакансии распределены по разным уровням опыта, что свидетельствует о гибкости рынка труда.\n",
        "Основная масса вакансий ориентирована на кандидатов с опытом работы от 1 до 3 лет, что может свидетельствовать о том, что компании предпочитают специалистов с определённым базовым опытом.\n",
        "Вакансии с гибким графиком и возможностью удалённой работы становятся всё более популярными, что соответствует современным тенденциям на рынке труда.\n",
        "Заработная плата сильно варьируется в зависимости от требуемого опыта и уровня позиции, что указывает на наличие как начальных, так и высококвалифицированных вакансий.."
      ]
    },
    {
      "cell_type": "markdown",
      "id": "7ea20ab6-04a7-40a0-adec-443a0e5a42c3",
      "metadata": {
        "id": "7ea20ab6-04a7-40a0-adec-443a0e5a42c3"
      },
      "source": [
        "# Юнит 5. Анализ работодателей"
      ]
    },
    {
      "cell_type": "markdown",
      "id": "968aed80-74ef-4ffb-b5bf-c65b84e9caea",
      "metadata": {
        "id": "968aed80-74ef-4ffb-b5bf-c65b84e9caea"
      },
      "source": [
        "1. Напишите запрос, который позволит узнать, какие работодатели находятся на первом и пятом месте по количеству вакансий."
      ]
    },
    {
      "cell_type": "code",
      "execution_count": 24,
      "id": "f2d62796-d400-4ec1-a675-88112739a50e",
      "metadata": {
        "id": "f2d62796-d400-4ec1-a675-88112739a50e"
      },
      "outputs": [
        {
          "name": "stderr",
          "output_type": "stream",
          "text": [
            "C:\\Users\\Константин\\AppData\\Local\\Temp\\ipykernel_9320\\794056125.py:18: UserWarning: pandas only supports SQLAlchemy connectable (engine/connection) or database string URI or sqlite3 DBAPI2 connection. Other DBAPI2 objects are not tested. Please consider using SQLAlchemy.\n",
            "  df_top_1_5_employers = pd.read_sql_query(query_top_1_5_employers, connection)\n"
          ]
        }
      ],
      "source": [
        "# Запрос для определения работодателей на первом и пятом местах по количеству вакансий\n",
        "query_top_1_5_employers = '''\n",
        "WITH employer_ranking AS (\n",
        "    SELECT \n",
        "        e.name AS employer_name,\n",
        "        COUNT(v.id) AS vacancy_count,\n",
        "        ROW_NUMBER() OVER (ORDER BY COUNT(v.id) DESC) AS rn\n",
        "    FROM public.vacancies v\n",
        "    JOIN public.employers e ON v.employer_id = e.id\n",
        "    GROUP BY e.name\n",
        ")\n",
        "SELECT employer_name, vacancy_count\n",
        "FROM employer_ranking\n",
        "WHERE rn = 1 OR rn = 5;\n",
        "'''\n",
        "\n",
        "# Выполняем запрос и получаем результат в виде датафрейма\n",
        "df_top_1_5_employers = pd.read_sql_query(query_top_1_5_employers, connection)"
      ]
    },
    {
      "cell_type": "code",
      "execution_count": 25,
      "id": "64tOMkAxqkQk",
      "metadata": {
        "id": "64tOMkAxqkQk"
      },
      "outputs": [
        {
          "name": "stdout",
          "output_type": "stream",
          "text": [
            "   employer_name  vacancy_count\n",
            "0         Яндекс           1933\n",
            "1  Газпром нефть            331\n"
          ]
        }
      ],
      "source": [
        "# результат запроса\n",
        "print(df_top_1_5_employers)"
      ]
    },
    {
      "cell_type": "markdown",
      "id": "68377cfc-b378-43dc-ab7d-1195abf2c515",
      "metadata": {
        "id": "68377cfc-b378-43dc-ab7d-1195abf2c515"
      },
      "source": [
        "2. Напишите запрос, который для каждого региона выведет количество работодателей и вакансий в нём.\n",
        "Среди регионов, в которых нет вакансий, найдите тот, в котором наибольшее количество работодателей.\n"
      ]
    },
    {
      "cell_type": "code",
      "execution_count": 26,
      "id": "dd7df27a-e3e8-412e-a21a-5d389b71e891",
      "metadata": {
        "id": "dd7df27a-e3e8-412e-a21a-5d389b71e891"
      },
      "outputs": [
        {
          "name": "stderr",
          "output_type": "stream",
          "text": [
            "C:\\Users\\Константин\\AppData\\Local\\Temp\\ipykernel_9320\\2651791965.py:28: UserWarning: pandas only supports SQLAlchemy connectable (engine/connection) or database string URI or sqlite3 DBAPI2 connection. Other DBAPI2 objects are not tested. Please consider using SQLAlchemy.\n",
            "  df_regions = pd.read_sql_query(query_regions_employers_vacancies, connection)\n"
          ]
        }
      ],
      "source": [
        "# Запрос для вывода количества работодателей и вакансий в каждом регионе\n",
        "query_regions_employers_vacancies = '''\n",
        "WITH employer_counts AS (\n",
        "    SELECT \n",
        "        area AS area_id,\n",
        "        COUNT(id) AS employer_count\n",
        "    FROM public.employers\n",
        "    GROUP BY area\n",
        "),\n",
        "vacancy_counts AS (\n",
        "    SELECT \n",
        "        area_id,\n",
        "        COUNT(id) AS vacancy_count\n",
        "    FROM public.vacancies\n",
        "    GROUP BY area_id\n",
        ")\n",
        "SELECT \n",
        "    a.name AS region_name,\n",
        "    COALESCE(e.employer_count, 0) AS employer_count,\n",
        "    COALESCE(v.vacancy_count, 0) AS vacancy_count\n",
        "FROM public.areas a\n",
        "LEFT JOIN employer_counts e ON a.id = e.area_id\n",
        "LEFT JOIN vacancy_counts v ON a.id = v.area_id\n",
        "ORDER BY vacancy_count ASC, employer_count DESC;\n",
        "'''\n",
        "\n",
        "# Выполняем запрос и получаем результат в виде датафрейма\n",
        "df_regions = pd.read_sql_query(query_regions_employers_vacancies, connection)"
      ]
    },
    {
      "cell_type": "code",
      "execution_count": 27,
      "id": "x1ikWbydrbf6",
      "metadata": {
        "id": "x1ikWbydrbf6"
      },
      "outputs": [
        {
          "name": "stdout",
          "output_type": "stream",
          "text": [
            "             region_name  employer_count  vacancy_count\n",
            "0                 Россия             410              0\n",
            "1              Казахстан             207              0\n",
            "2     Московская область              75              0\n",
            "3     Краснодарский край              19              0\n",
            "4     Ростовская область              18              0\n",
            "...                  ...             ...            ...\n",
            "1357              Алматы             721           1892\n",
            "1358         Новосибирск             573           2006\n",
            "1359               Минск            1115           2112\n",
            "1360     Санкт-Петербург            2217           2851\n",
            "1361              Москва            5864           5333\n",
            "\n",
            "[1362 rows x 3 columns]\n"
          ]
        }
      ],
      "source": [
        "# результат запроса\n",
        "print(df_regions)"
      ]
    },
    {
      "cell_type": "markdown",
      "id": "f2fe0acb-ab1a-4e15-9326-2560e22d73c1",
      "metadata": {
        "id": "f2fe0acb-ab1a-4e15-9326-2560e22d73c1"
      },
      "source": [
        "3. Для каждого работодателя посчитайте количество регионов, в которых он публикует свои вакансии. Отсортируйте результат по убыванию количества.\n"
      ]
    },
    {
      "cell_type": "code",
      "execution_count": 37,
      "id": "6271f8ad-bd2e-4196-ae4a-5b39c4c1010e",
      "metadata": {
        "id": "6271f8ad-bd2e-4196-ae4a-5b39c4c1010e"
      },
      "outputs": [
        {
          "name": "stderr",
          "output_type": "stream",
          "text": [
            "C:\\Users\\Константин\\AppData\\Local\\Temp\\ipykernel_9320\\2983370764.py:16: UserWarning: pandas only supports SQLAlchemy connectable (engine/connection) or database string URI or sqlite3 DBAPI2 connection. Other DBAPI2 objects are not tested. Please consider using SQLAlchemy.\n",
            "  df_5_3 = pd.read_sql_query(query_5_3, connection)\n"
          ]
        }
      ],
      "source": [
        "query_5_3 = '''\n",
        "SELECT \n",
        "    e.name AS employer_name, \n",
        "    COUNT(DISTINCT v.area_id) AS region_count\n",
        "FROM \n",
        "    vacancies v\n",
        "JOIN \n",
        "    employers e ON v.employer_id = e.id\n",
        "GROUP BY \n",
        "    e.name\n",
        "ORDER BY \n",
        "    region_count DESC;\n",
        "'''\n",
        "\n",
        "# Выполнение запроса и получение результата в DataFrame\n",
        "df_5_3 = pd.read_sql_query(query_5_3, connection)\n",
        "\n"
      ]
    },
    {
      "cell_type": "code",
      "execution_count": 38,
      "id": "1EIvX3HasH4F",
      "metadata": {
        "id": "1EIvX3HasH4F"
      },
      "outputs": [
        {
          "name": "stdout",
          "output_type": "stream",
          "text": [
            "                employer_name  region_count\n",
            "0                      Яндекс           181\n",
            "1                  Ростелеком           152\n",
            "2                  Спецремонт           116\n",
            "3      Поляков Денис Иванович            88\n",
            "4                   ООО ЕФИН             71\n",
            "...                       ...           ...\n",
            "14761                  UniSol             1\n",
            "14762            UNISTORY LLC             1\n",
            "14763                   UNIT6             1\n",
            "14764     United Distribution             1\n",
            "14765              UNITEL LLC             1\n",
            "\n",
            "[14766 rows x 2 columns]\n"
          ]
        }
      ],
      "source": [
        "print(df_5_3)\n"
      ]
    },
    {
      "cell_type": "markdown",
      "id": "eab2206d-d95b-468b-8e5f-34381abf0ce7",
      "metadata": {
        "id": "eab2206d-d95b-468b-8e5f-34381abf0ce7"
      },
      "source": [
        "4. Напишите запрос для подсчёта количества работодателей, у которых не указана сфера деятельности. "
      ]
    },
    {
      "cell_type": "code",
      "execution_count": 29,
      "id": "80defb23-bfb1-4a18-8be6-bf36aa7165d5",
      "metadata": {
        "id": "80defb23-bfb1-4a18-8be6-bf36aa7165d5"
      },
      "outputs": [
        {
          "name": "stderr",
          "output_type": "stream",
          "text": [
            "C:\\Users\\Константин\\AppData\\Local\\Temp\\ipykernel_9320\\1203675590.py:10: UserWarning: pandas only supports SQLAlchemy connectable (engine/connection) or database string URI or sqlite3 DBAPI2 connection. Other DBAPI2 objects are not tested. Please consider using SQLAlchemy.\n",
            "  df_no_industry = pd.read_sql_query(query_5_4, connection)\n"
          ]
        }
      ],
      "source": [
        "# Запрос для подсчёта количества работодателей без указанной сферы деятельности\n",
        "query_5_4 = '''\n",
        "SELECT COUNT(e.id) AS count_no_industry\n",
        "FROM employers e\n",
        "LEFT JOIN employers_industries ei ON e.id = ei.employer_id\n",
        "WHERE ei.industry_id IS NULL;\n",
        "'''\n",
        "\n",
        "# Выполнение запроса\n",
        "df_no_industry = pd.read_sql_query(query_5_4, connection)\n"
      ]
    },
    {
      "cell_type": "code",
      "execution_count": 30,
      "id": "Dp_yCx6ysQSu",
      "metadata": {
        "id": "Dp_yCx6ysQSu"
      },
      "outputs": [
        {
          "name": "stdout",
          "output_type": "stream",
          "text": [
            "   count_no_industry\n",
            "0               8419\n"
          ]
        }
      ],
      "source": [
        "# результат запроса\n",
        "print(df_no_industry)"
      ]
    },
    {
      "cell_type": "markdown",
      "id": "0112af31-f6b0-4e3b-82ab-71296e752e5e",
      "metadata": {
        "id": "0112af31-f6b0-4e3b-82ab-71296e752e5e"
      },
      "source": [
        "5. Напишите запрос, чтобы узнать название компании, находящейся на третьем месте в алфавитном списке (по названию) компаний, у которых указано четыре сферы деятельности. "
      ]
    },
    {
      "cell_type": "code",
      "execution_count": 31,
      "id": "973b0cfc-a972-470a-8b4a-68744ef220c4",
      "metadata": {
        "id": "973b0cfc-a972-470a-8b4a-68744ef220c4"
      },
      "outputs": [
        {
          "name": "stderr",
          "output_type": "stream",
          "text": [
            "C:\\Users\\Константин\\AppData\\Local\\Temp\\ipykernel_9320\\868220171.py:13: UserWarning: pandas only supports SQLAlchemy connectable (engine/connection) or database string URI or sqlite3 DBAPI2 connection. Other DBAPI2 objects are not tested. Please consider using SQLAlchemy.\n",
            "  df_third_company = pd.read_sql_query(query_5_5, connection)\n"
          ]
        }
      ],
      "source": [
        "# Запрос для получения названия компании\n",
        "query_5_5 = '''\n",
        "SELECT e.name\n",
        "FROM employers e\n",
        "JOIN employers_industries ei ON e.id = ei.employer_id\n",
        "GROUP BY e.id\n",
        "HAVING COUNT(ei.industry_id) = 4\n",
        "ORDER BY e.name\n",
        "LIMIT 1 OFFSET 2;\n",
        "'''\n",
        "\n",
        "# Выполнение запроса\n",
        "df_third_company = pd.read_sql_query(query_5_5, connection)\n",
        "\n"
      ]
    },
    {
      "cell_type": "code",
      "execution_count": 32,
      "id": "xsPtpp8EsaED",
      "metadata": {
        "id": "xsPtpp8EsaED"
      },
      "outputs": [
        {
          "name": "stdout",
          "output_type": "stream",
          "text": [
            "   name\n",
            "0  2ГИС\n"
          ]
        }
      ],
      "source": [
        "print(df_third_company)"
      ]
    },
    {
      "cell_type": "markdown",
      "id": "3bfcfdaf-755d-4d2b-8ed8-326201dc07ab",
      "metadata": {
        "id": "3bfcfdaf-755d-4d2b-8ed8-326201dc07ab"
      },
      "source": [
        "6. С помощью запроса выясните, у какого количества работодателей в качестве сферы деятельности указана Разработка программного обеспечения.\n"
      ]
    },
    {
      "cell_type": "code",
      "execution_count": 33,
      "id": "ad3f270f-2991-47eb-929b-e8f88a55b0d1",
      "metadata": {
        "id": "ad3f270f-2991-47eb-929b-e8f88a55b0d1"
      },
      "outputs": [
        {
          "name": "stderr",
          "output_type": "stream",
          "text": [
            "C:\\Users\\Константин\\AppData\\Local\\Temp\\ipykernel_9320\\607439740.py:12: UserWarning: pandas only supports SQLAlchemy connectable (engine/connection) or database string URI or sqlite3 DBAPI2 connection. Other DBAPI2 objects are not tested. Please consider using SQLAlchemy.\n",
            "  df_software_count = pd.read_sql_query(query_5_6, connection)\n"
          ]
        }
      ],
      "source": [
        "# текст запроса\n",
        "# Запрос для подсчёта количества работодателей с указанной сферой деятельности\n",
        "query_5_6 = '''\n",
        "SELECT COUNT(DISTINCT e.id) AS software_development_count\n",
        "FROM employers e\n",
        "JOIN employers_industries ei ON e.id = ei.employer_id\n",
        "JOIN industries i ON ei.industry_id = i.id\n",
        "WHERE i.name = 'Разработка программного обеспечения';\n",
        "'''\n",
        "\n",
        "# Выполнение запроса\n",
        "df_software_count = pd.read_sql_query(query_5_6, connection)\n"
      ]
    },
    {
      "cell_type": "code",
      "execution_count": 34,
      "id": "H72qxWM0shPR",
      "metadata": {
        "id": "H72qxWM0shPR"
      },
      "outputs": [
        {
          "name": "stdout",
          "output_type": "stream",
          "text": [
            "   software_development_count\n",
            "0                        3553\n"
          ]
        }
      ],
      "source": [
        "# результат запроса\n",
        "print(df_software_count)"
      ]
    },
    {
      "cell_type": "markdown",
      "id": "7b02bb86-0546-40fb-94a4-242f050a5c57",
      "metadata": {
        "id": "7b02bb86-0546-40fb-94a4-242f050a5c57"
      },
      "source": [
        "7. Для компании «Яндекс» выведите список регионов-миллионников, в которых представлены вакансии компании, вместе с количеством вакансий в этих регионах. Также добавьте строку Total с общим количеством вакансий компании. Результат отсортируйте по возрастанию количества.\n",
        "\n",
        "Список городов-милионников надо взять [отсюда](https://ru.wikipedia.org/wiki/%D0%93%D0%BE%D1%80%D0%BE%D0%B4%D0%B0-%D0%BC%D0%B8%D0%BB%D0%BB%D0%B8%D0%BE%D0%BD%D0%B5%D1%80%D1%8B_%D0%A0%D0%BE%D1%81%D1%81%D0%B8%D0%B8). \n",
        "\n",
        "Если возникнут трудности с этим задание посмотрите материалы модуля  PYTHON-17. Как получать данные из веб-источников и API. "
      ]
    },
    {
      "cell_type": "code",
      "execution_count": 39,
      "id": "ZdfrL6gIs1Pn",
      "metadata": {
        "id": "ZdfrL6gIs1Pn"
      },
      "outputs": [
        {
          "name": "stdout",
          "output_type": "stream",
          "text": [
            "['Москва', 'Санкт-Петербург', 'Новосибирск', 'Екатеринбург', 'Казань', 'Красноярск', 'Нижний Новгород', 'Челябинск', 'Уфа', 'Самара', 'Ростов-на-Дону', 'Краснодар', 'Омск', 'Воронеж', 'Пермь', 'Волгоград']\n"
          ]
        }
      ],
      "source": [
        "# код для получения списка городов-милионников\n",
        "import requests\n",
        "from bs4 import BeautifulSoup\n",
        "\n",
        "# URL страницы с городами-миллионниками\n",
        "url = \"https://ru.wikipedia.org/wiki/Города-миллионеры_России\"\n",
        "\n",
        "# Запрос страницы\n",
        "response = requests.get(url)\n",
        "soup = BeautifulSoup(response.text, 'html.parser')\n",
        "\n",
        "# Парсинг таблицы с городами\n",
        "table = soup.find('table', {'class': 'standard'})\n",
        "rows = table.find_all('tr')[1:]  # Пропускаем заголовок\n",
        "\n",
        "# Список городов\n",
        "cities = []\n",
        "for row in rows:\n",
        "    city = row.find_all('td')[1].text.strip()  # Название города во втором столбце\n",
        "    cities.append(city)\n",
        "\n",
        "# Проверка полученного списка городов\n",
        "print(cities)\n"
      ]
    },
    {
      "cell_type": "code",
      "execution_count": null,
      "id": "5a0e32a4-e68a-4365-8a39-2fe24c542c36",
      "metadata": {
        "id": "5a0e32a4-e68a-4365-8a39-2fe24c542c36"
      },
      "outputs": [
        {
          "name": "stderr",
          "output_type": "stream",
          "text": [
            "C:\\Users\\Константин\\AppData\\Local\\Temp\\ipykernel_21580\\3008761988.py:26: UserWarning: pandas only supports SQLAlchemy connectable (engine/connection) or database string URI or sqlite3 DBAPI2 connection. Other DBAPI2 objects are not tested. Please consider using SQLAlchemy.\n",
            "  df_yandex_cities = pd.read_sql_query(query_7, connection)\n"
          ]
        }
      ],
      "source": [
        "# Преобразуем список городов в строку для SQL-запроса\n",
        "cities_str = \"','\".join(cities)\n",
        "\n",
        "# SQL-запрос\n",
        "query_7 = f'''\n",
        "WITH yandex_vacancies AS (\n",
        "    SELECT a.name AS city, COUNT(v.id) AS vacancy_count\n",
        "    FROM vacancies v\n",
        "    JOIN employers e ON v.employer_id = e.id\n",
        "    JOIN areas a ON v.area_id = a.id\n",
        "    WHERE e.name = 'Яндекс' AND a.name IN ('{cities_str}')\n",
        "    GROUP BY a.name\n",
        ")\n",
        "SELECT city, vacancy_count\n",
        "FROM yandex_vacancies\n",
        "\n",
        "UNION ALL\n",
        "\n",
        "SELECT 'Total', SUM(vacancy_count)\n",
        "FROM yandex_vacancies\n",
        "\n",
        "ORDER BY vacancy_count ASC;\n",
        "'''\n",
        "\n",
        "# Выполнение запроса и вывод результата\n",
        "df_yandex_cities = pd.read_sql_query(query_7, connection)\n",
        "\n",
        "\n",
        "\n"
      ]
    },
    {
      "cell_type": "code",
      "execution_count": null,
      "id": "ttPhiO1rsvPq",
      "metadata": {
        "id": "ttPhiO1rsvPq"
      },
      "outputs": [
        {
          "name": "stdout",
          "output_type": "stream",
          "text": [
            "               city  vacancy_count\n",
            "0              Омск           21.0\n",
            "1         Челябинск           22.0\n",
            "2        Красноярск           23.0\n",
            "3         Волгоград           24.0\n",
            "4             Пермь           25.0\n",
            "5            Казань           25.0\n",
            "6    Ростов-на-Дону           25.0\n",
            "7            Самара           26.0\n",
            "8               Уфа           26.0\n",
            "9         Краснодар           30.0\n",
            "10          Воронеж           32.0\n",
            "11      Новосибирск           35.0\n",
            "12  Нижний Новгород           36.0\n",
            "13     Екатеринбург           39.0\n",
            "14  Санкт-Петербург           42.0\n",
            "15           Москва           54.0\n",
            "16            Total          485.0\n"
          ]
        }
      ],
      "source": [
        "# результат запроса\n",
        "print(df_yandex_cities)"
      ]
    },
    {
      "cell_type": "markdown",
      "id": "04966e40-3bc3-4dc8-9ba2-e80580ce3abc",
      "metadata": {
        "id": "04966e40-3bc3-4dc8-9ba2-e80580ce3abc"
      },
      "source": [
        "***"
      ]
    },
    {
      "cell_type": "markdown",
      "id": "db96c2c4",
      "metadata": {},
      "source": [
        "5.  Анализ работодателей\n",
        "Результат: Проанализированы основные работодатели, публикующие вакансии, их количество и географическое распределение. Были выделены компании с наибольшим числом вакансий, а также их распределение по городам и регионам.\n",
        "\n",
        "Вывод:\n",
        "\n",
        "Большинство вакансий публикуются крупными компаниями и IT-гигантами, такими как «Яндекс» и «Сбербанк», что указывает на их активное развитие и потребность в новых кадрах.\n",
        "Большое количество вакансий сосредоточено в крупных городах, таких как Москва и Санкт-Петербург, что отражает концентрацию деловой активности и IT-сектора в этих регионах.\n",
        "Это также может свидетельствовать о том, что для поиска работы в IT-сфере кандидаты чаще ориентируются на крупные города."
      ]
    },
    {
      "cell_type": "markdown",
      "id": "b1ef156a-efcb-49ce-bb23-90763e7f35b2",
      "metadata": {
        "id": "b1ef156a-efcb-49ce-bb23-90763e7f35b2",
        "tags": []
      },
      "source": [
        "# Юнит 6. Предметный анализ"
      ]
    },
    {
      "cell_type": "markdown",
      "id": "b9cd50a0-992d-4988-8463-2b2b1c4629b4",
      "metadata": {
        "id": "b9cd50a0-992d-4988-8463-2b2b1c4629b4"
      },
      "source": [
        "1. Сколько вакансий имеет отношение к данным?\n",
        "\n",
        "Считаем, что вакансия имеет отношение к данным, если в её названии содержатся слова 'data' или 'данн'.\n",
        "\n",
        "*Подсказка: Обратите внимание, что названия вакансий могут быть написаны в любом регистре.* \n"
      ]
    },
    {
      "cell_type": "code",
      "execution_count": null,
      "id": "54ab0e50-c0f1-47cc-a54b-bc5c8bc363f9",
      "metadata": {
        "id": "54ab0e50-c0f1-47cc-a54b-bc5c8bc363f9"
      },
      "outputs": [
        {
          "name": "stderr",
          "output_type": "stream",
          "text": [
            "C:\\Users\\Константин\\AppData\\Local\\Temp\\ipykernel_21580\\1164110966.py:10: UserWarning: pandas only supports SQLAlchemy connectable (engine/connection) or database string URI or sqlite3 DBAPI2 connection. Other DBAPI2 objects are not tested. Please consider using SQLAlchemy.\n",
            "  df_data_vacancies = pd.read_sql_query(query_data_vacancies, connection)\n"
          ]
        }
      ],
      "source": [
        "# текст запроса\n",
        "# SQL-запрос\n",
        "query_data_vacancies = '''\n",
        "SELECT COUNT(*)\n",
        "FROM vacancies\n",
        "WHERE LOWER(name) LIKE '%data%' OR LOWER(name) LIKE '%данн%';\n",
        "'''\n",
        "\n",
        "# Выполнение запроса и вывод результата\n",
        "df_data_vacancies = pd.read_sql_query(query_data_vacancies, connection)\n",
        "\n"
      ]
    },
    {
      "cell_type": "code",
      "execution_count": null,
      "id": "9F1meAqsuUjd",
      "metadata": {
        "id": "9F1meAqsuUjd"
      },
      "outputs": [
        {
          "name": "stdout",
          "output_type": "stream",
          "text": [
            "1771\n"
          ]
        }
      ],
      "source": [
        "# результат запроса\n",
        "print(df_data_vacancies.iloc[0, 0])  # количество вакансий"
      ]
    },
    {
      "cell_type": "markdown",
      "id": "4dea20cb-a36b-474a-a0b9-e08e8e3857a5",
      "metadata": {
        "id": "4dea20cb-a36b-474a-a0b9-e08e8e3857a5"
      },
      "source": [
        "2. Сколько есть подходящих вакансий для начинающего дата-сайентиста? \n",
        "Будем считать вакансиями для дата-сайентистов такие, в названии которых есть хотя бы одно из следующих сочетаний:\n",
        "* 'data scientist'\n",
        "* 'data science'\n",
        "* 'исследователь данных'\n",
        "* 'ML' (здесь не нужно брать вакансии по HTML)\n",
        "* 'machine learning'\n",
        "* 'машинн%обучен%'\n",
        "\n",
        "** В следующих заданиях мы продолжим работать с вакансиями по этому условию.*\n",
        "\n",
        "Считаем вакансиями для специалистов уровня Junior следующие:\n",
        "* в названии есть слово 'junior' *или*\n",
        "* требуемый опыт — Нет опыта *или*\n",
        "* тип трудоустройства — Стажировка.\n",
        " "
      ]
    },
    {
      "cell_type": "code",
      "execution_count": null,
      "id": "9c61b3c0-bb66-46c9-ae1e-81d3f5752b4a",
      "metadata": {
        "id": "9c61b3c0-bb66-46c9-ae1e-81d3f5752b4a"
      },
      "outputs": [
        {
          "name": "stderr",
          "output_type": "stream",
          "text": [
            "C:\\Users\\Константин\\AppData\\Local\\Temp\\ipykernel_21580\\4197601787.py:18: UserWarning: pandas only supports SQLAlchemy connectable (engine/connection) or database string URI or sqlite3 DBAPI2 connection. Other DBAPI2 objects are not tested. Please consider using SQLAlchemy.\n",
            "  df_junior_ds_vacancies = pd.read_sql_query(query_junior_ds_vacancies, connection)\n"
          ]
        }
      ],
      "source": [
        "# текст запроса\n",
        "# SQL-запрос\n",
        "query_junior_ds_vacancies = '''\n",
        "SELECT COUNT(*)\n",
        "FROM vacancies\n",
        "WHERE (LOWER(name) LIKE '%data scientist%'\n",
        "       OR LOWER(name) LIKE '%data science%'\n",
        "       OR LOWER(name) LIKE '%исследователь данных%'\n",
        "       OR (LOWER(name) LIKE '%ml%' AND LOWER(name) NOT LIKE '%html%')\n",
        "       OR LOWER(name) LIKE '%machine learning%'\n",
        "       OR LOWER(name) LIKE '%машинн%обучен%')\n",
        "AND (LOWER(name) LIKE '%junior%' \n",
        "     OR experience = 'Нет опыта' \n",
        "     OR employment = 'Стажировка');\n",
        "'''\n",
        "\n",
        "# Выполнение запроса и вывод результата\n",
        "df_junior_ds_vacancies = pd.read_sql_query(query_junior_ds_vacancies, connection)\n"
      ]
    },
    {
      "cell_type": "code",
      "execution_count": null,
      "id": "ZNM-LLYuu1dj",
      "metadata": {
        "id": "ZNM-LLYuu1dj"
      },
      "outputs": [
        {
          "name": "stdout",
          "output_type": "stream",
          "text": [
            "51\n"
          ]
        }
      ],
      "source": [
        "# результат запроса\n",
        "print(df_junior_ds_vacancies.iloc[0, 0])  # количество вакансий"
      ]
    },
    {
      "cell_type": "markdown",
      "id": "eedceb80-c5ca-480e-b27a-278dfb8b4438",
      "metadata": {
        "id": "eedceb80-c5ca-480e-b27a-278dfb8b4438"
      },
      "source": [
        "3. Сколько есть вакансий для DS, в которых в качестве ключевого навыка указан SQL или postgres?\n",
        "\n",
        "** Критерии для отнесения вакансии к DS указаны в предыдущем задании.*"
      ]
    },
    {
      "cell_type": "code",
      "execution_count": null,
      "id": "69621713-0cc5-4f1b-a1d7-bb144fa6148c",
      "metadata": {
        "id": "69621713-0cc5-4f1b-a1d7-bb144fa6148c"
      },
      "outputs": [
        {
          "name": "stderr",
          "output_type": "stream",
          "text": [
            "C:\\Users\\Константин\\AppData\\Local\\Temp\\ipykernel_21580\\1874149880.py:17: UserWarning: pandas only supports SQLAlchemy connectable (engine/connection) or database string URI or sqlite3 DBAPI2 connection. Other DBAPI2 objects are not tested. Please consider using SQLAlchemy.\n",
            "  df_sql_postgres_ds = pd.read_sql_query(query_sql_postgres_ds, connection)\n"
          ]
        }
      ],
      "source": [
        "# текст запроса\n",
        "# SQL-запрос\n",
        "query_sql_postgres_ds = '''\n",
        "SELECT COUNT(*)\n",
        "FROM vacancies\n",
        "WHERE (LOWER(name) LIKE '%data scientist%'\n",
        "       OR LOWER(name) LIKE '%data science%'\n",
        "       OR LOWER(name) LIKE '%исследователь данных%'\n",
        "       OR (LOWER(name) LIKE '%ml%' AND LOWER(name) NOT LIKE '%html%')\n",
        "       OR LOWER(name) LIKE '%machine learning%'\n",
        "       OR LOWER(name) LIKE '%машинн%обучен%')\n",
        "AND (LOWER(key_skills) LIKE '%sql%'\n",
        "     OR LOWER(key_skills) LIKE '%postgres%');\n",
        "'''\n",
        "\n",
        "# Выполнение запроса и вывод результата\n",
        "df_sql_postgres_ds = pd.read_sql_query(query_sql_postgres_ds, connection)\n",
        "\n"
      ]
    },
    {
      "cell_type": "code",
      "execution_count": null,
      "id": "alA8WEAAvGdf",
      "metadata": {
        "id": "alA8WEAAvGdf"
      },
      "outputs": [
        {
          "name": "stdout",
          "output_type": "stream",
          "text": [
            "229\n"
          ]
        }
      ],
      "source": [
        "# результат запроса\n",
        "print(df_sql_postgres_ds.iloc[0, 0])  # количество вакансий"
      ]
    },
    {
      "cell_type": "markdown",
      "id": "1be1e9c6-37cf-4a5f-bfeb-04cab799dc80",
      "metadata": {
        "id": "1be1e9c6-37cf-4a5f-bfeb-04cab799dc80"
      },
      "source": [
        "4. Проверьте, насколько популярен Python в требованиях работодателей к DS.Для этого вычислите количество вакансий, в которых в качестве ключевого навыка указан Python.\n",
        "\n",
        "** Это можно сделать помощью запроса, аналогичного предыдущему.*"
      ]
    },
    {
      "cell_type": "code",
      "execution_count": null,
      "id": "0036a355-9ccf-4564-8b01-73d8194297e7",
      "metadata": {
        "id": "0036a355-9ccf-4564-8b01-73d8194297e7"
      },
      "outputs": [
        {
          "name": "stderr",
          "output_type": "stream",
          "text": [
            "C:\\Users\\Константин\\AppData\\Local\\Temp\\ipykernel_21580\\383442415.py:16: UserWarning: pandas only supports SQLAlchemy connectable (engine/connection) or database string URI or sqlite3 DBAPI2 connection. Other DBAPI2 objects are not tested. Please consider using SQLAlchemy.\n",
            "  df_python_ds = pd.read_sql_query(query_python_ds, connection)\n"
          ]
        }
      ],
      "source": [
        "# текст запроса\n",
        "# SQL-запрос\n",
        "query_python_ds = '''\n",
        "SELECT COUNT(*)\n",
        "FROM vacancies\n",
        "WHERE (LOWER(name) LIKE '%data scientist%'\n",
        "       OR LOWER(name) LIKE '%data science%'\n",
        "       OR LOWER(name) LIKE '%исследователь данных%'\n",
        "       OR (LOWER(name) LIKE '%ml%' AND LOWER(name) NOT LIKE '%html%')\n",
        "       OR LOWER(name) LIKE '%machine learning%'\n",
        "       OR LOWER(name) LIKE '%машинн%обучен%')\n",
        "AND LOWER(key_skills) LIKE '%python%';\n",
        "'''\n",
        "\n",
        "# Выполнение запроса и вывод результата\n",
        "df_python_ds = pd.read_sql_query(query_python_ds, connection)\n",
        "\n"
      ]
    },
    {
      "cell_type": "code",
      "execution_count": null,
      "id": "1i-5WyucvQ6v",
      "metadata": {
        "id": "1i-5WyucvQ6v"
      },
      "outputs": [
        {
          "name": "stdout",
          "output_type": "stream",
          "text": [
            "357\n"
          ]
        }
      ],
      "source": [
        "# результат запроса\n",
        "print(df_python_ds.iloc[0, 0])  # количество вакансий"
      ]
    },
    {
      "cell_type": "markdown",
      "id": "ec3c8db7-fa21-4a41-a994-1af63742a642",
      "metadata": {
        "id": "ec3c8db7-fa21-4a41-a994-1af63742a642"
      },
      "source": [
        "5. Сколько ключевых навыков в среднем указывают в вакансиях для DS?\n",
        "Ответ округлите до двух знаков после точки-разделителя."
      ]
    },
    {
      "cell_type": "code",
      "execution_count": 51,
      "id": "949132bc-d5b6-4611-8218-0b9a504d74f4",
      "metadata": {
        "id": "949132bc-d5b6-4611-8218-0b9a504d74f4"
      },
      "outputs": [
        {
          "name": "stderr",
          "output_type": "stream",
          "text": [
            "C:\\Users\\Константин\\AppData\\Local\\Temp\\ipykernel_9320\\2220320413.py:21: UserWarning: pandas only supports SQLAlchemy connectable (engine/connection) or database string URI or sqlite3 DBAPI2 connection. Other DBAPI2 objects are not tested. Please consider using SQLAlchemy.\n",
            "  df_avg_skills_ds = pd.read_sql_query(query_avg_skills_ds, connection)\n"
          ]
        }
      ],
      "source": [
        "# SQL-запрос\n",
        "query_avg_skills_ds = '''\n",
        "select\n",
        "round(avg(length(key_skills) - length(replace(key_skills,CHR(9),''))+1),2)\n",
        "\n",
        "from vacancies v\n",
        "\n",
        "WHERE\n",
        "(\n",
        "       (v.name ILIKE '%data scientist%')\n",
        "    OR (lower(v.name) ILIKE '%data science%')\n",
        "    OR (v.name ILIKE '%исследователь данных%')\n",
        "    OR (v.name  LIKE '%ML%' AND  (v.name NOT iLIKE '%html%'))\n",
        "    OR (v.name ILIKE '%machine learning%')\n",
        "    OR (v.name ILIKE '%машинн%обучен%')\n",
        "    AND (key_skills IS NOT NULL)\n",
        ")\n",
        "'''\n",
        "\n",
        "# Выполнение запроса и вывод результата\n",
        "df_avg_skills_ds = pd.read_sql_query(query_avg_skills_ds, connection)\n",
        "\n",
        "\n"
      ]
    },
    {
      "cell_type": "code",
      "execution_count": 52,
      "id": "a3V24Tvmviqk",
      "metadata": {
        "id": "a3V24Tvmviqk"
      },
      "outputs": [
        {
          "name": "stdout",
          "output_type": "stream",
          "text": [
            "6.41\n"
          ]
        }
      ],
      "source": [
        "print(round(df_avg_skills_ds.iloc[0, 0], 2))  # среднее количество ключевых навыков"
      ]
    },
    {
      "cell_type": "markdown",
      "id": "1041c17a-ca8f-4543-a0ca-32778914fb00",
      "metadata": {
        "id": "1041c17a-ca8f-4543-a0ca-32778914fb00"
      },
      "source": [
        "6. Напишите запрос, позволяющий вычислить, какую зарплату для DS в **среднем** указывают для каждого типа требуемого опыта (уникальное значение из поля *experience*). \n",
        "\n",
        "При решении задачи примите во внимание следующее:\n",
        "1. Рассматриваем только вакансии, у которых заполнено хотя бы одно из двух полей с зарплатой.\n",
        "2. Если заполнены оба поля с зарплатой, то считаем зарплату по каждой вакансии как сумму двух полей, делённую на 2. Если заполнено только одно из полей, то его и считаем зарплатой по вакансии.\n",
        "3. Если в расчётах участвует null, в результате он тоже даст null (посмотрите, что возвращает запрос select 1 + null). Чтобы избежать этой ситуацию, мы воспользуемся функцией [coalesce](https://postgrespro.ru/docs/postgresql/9.5/functions-conditional#functions-coalesce-nvl-ifnull), которая заменит null на значение, которое мы передадим. Например, посмотрите, что возвращает запрос `select 1 + coalesce(null, 0)`\n",
        "\n",
        "Выясните, на какую зарплату в среднем может рассчитывать дата-сайентист с опытом работы от 3 до 6 лет. Результат округлите до целого числа. "
      ]
    },
    {
      "cell_type": "code",
      "execution_count": 45,
      "id": "6a743d39-5204-48d3-8271-b9f88e68d40e",
      "metadata": {
        "id": "6a743d39-5204-48d3-8271-b9f88e68d40e"
      },
      "outputs": [
        {
          "name": "stderr",
          "output_type": "stream",
          "text": [
            "C:\\Users\\Константин\\AppData\\Local\\Temp\\ipykernel_9320\\1106351163.py:19: UserWarning: pandas only supports SQLAlchemy connectable (engine/connection) or database string URI or sqlite3 DBAPI2 connection. Other DBAPI2 objects are not tested. Please consider using SQLAlchemy.\n",
            "  df_avg_salary_ds = pd.read_sql_query(query_6_6, connection)\n"
          ]
        }
      ],
      "source": [
        "# текст запроса\n",
        "# SQL-запрос\n",
        "query_6_6 = f'''\n",
        "        SELECT \n",
        "    experience,\n",
        "    ROUND(AVG(\n",
        "        COALESCE((salary_from + salary_to) / 2, salary_from, salary_to)\n",
        "    )) AS avg_salary\n",
        "FROM \n",
        "    vacancies\n",
        "WHERE \n",
        "    (salary_from IS NOT NULL OR salary_to IS NOT NULL)\n",
        "    AND LOWER(name) LIKE '%data scientist%'  -- Фильтруем вакансии для дата-сайентистов\n",
        "GROUP BY \n",
        "    experience;\n",
        "\n",
        "        '''\n",
        "# Выполнение запроса и вывод результата\n",
        "df_avg_salary_ds = pd.read_sql_query(query_6_6, connection)\n",
        "\n"
      ]
    },
    {
      "cell_type": "code",
      "execution_count": 46,
      "id": "aRIJ0mZEwU1_",
      "metadata": {
        "id": "aRIJ0mZEwU1_"
      },
      "outputs": [
        {
          "name": "stdout",
          "output_type": "stream",
          "text": [
            "           experience  avg_salary\n",
            "0           Нет опыта     67917.0\n",
            "1  От 1 года до 3 лет    149458.0\n",
            "2       От 3 до 6 лет    255740.0\n"
          ]
        }
      ],
      "source": [
        "# результат запроса\n",
        "print(df_avg_salary_ds)"
      ]
    },
    {
      "cell_type": "markdown",
      "id": "6a7892b4-4113-4746-adce-18aa2844f18e",
      "metadata": {
        "id": "6a7892b4-4113-4746-adce-18aa2844f18e"
      },
      "source": [
        "***"
      ]
    },
    {
      "cell_type": "markdown",
      "id": "963fc0d2",
      "metadata": {},
      "source": [
        "6. Предметный анализ\n",
        "Результат: Проведён анализ вакансий, связанных с анализом данных, определены ключевые навыки и требования к специалистам, а также проведён анализ зарплат для специалистов с различным уровнем опыта.\n",
        "\n",
        "Вывод:\n",
        "\n",
        "Рынок активно нуждается в специалистах по данным (Data Scientists, аналитиках данных и т.д.), что подтверждается большим количеством вакансий, связанных с обработкой и анализом данных.\n",
        "SQL и Python являются основными требованиями к таким специалистам, что подчёркивает важность владения этими инструментами.\n",
        "Средняя заработная плата специалистов с опытом работы от 3 до 6 лет довольно высока, что подтверждает ценность квалифицированных кадров в этой области.\n",
        "Рынок труда для специалистов по данным динамичен и продолжает расти, предоставляя возможности как для начинающих, так и для опытных специалистов."
      ]
    },
    {
      "cell_type": "markdown",
      "id": "c0ED6fh7wiBT",
      "metadata": {
        "id": "c0ED6fh7wiBT"
      },
      "source": [
        "# Общий вывод по проекту"
      ]
    },
    {
      "cell_type": "code",
      "execution_count": null,
      "id": "h9B3BL-wwj18",
      "metadata": {
        "id": "h9B3BL-wwj18"
      },
      "outputs": [],
      "source": [
        "# подведем итог исследования, обобщите выводы\n",
        "# здесь можно (это будет плюсом) провести дополнительные исследования данных, сделать прогнозы, продумать варианты продолжения исследования"
      ]
    },
    {
      "cell_type": "markdown",
      "id": "d80b4854",
      "metadata": {},
      "source": [
        "Общий вывод по результатам анализа вакансий:\n",
        "На основании проведённого анализа можно сделать следующие обобщающие выводы:\n",
        "\n",
        "Растущий спрос на специалистов по данным: Анализ показал значительное количество вакансий, связанных с анализом данных и машинным обучением. Это свидетельствует о том, что рынок труда в IT-секторе активно развивается, и компании всё больше нуждаются в специалистах по данным.\n",
        "\n",
        "Высокие требования к навыкам: Вакансии часто требуют от кандидатов знания нескольких ключевых навыков, таких как Python и SQL, что подчеркивает высокие стандарты для специалистов в этой области.\n",
        "\n",
        "Поддержка начинающих специалистов: В то же время компании предлагают вакансии для начинающих, что открывает возможности для молодых специалистов войти в профессию и развиваться в ней.\n",
        "\n",
        "Высокая заработная плата: Средняя зарплата для опытных дата-сайентистов свидетельствует о том, что профессионалы, обладающие нужными навыками и опытом, могут рассчитывать на высокую оплату труда."
      ]
    }
  ],
  "metadata": {
    "colab": {
      "collapsed_sections": [
        "8d62a9f3-f64e-4fe7-bdac-c4dffa16155e"
      ],
      "provenance": []
    },
    "kernelspec": {
      "display_name": "Python 3 (ipykernel)",
      "language": "python",
      "name": "python3"
    },
    "language_info": {
      "codemirror_mode": {
        "name": "ipython",
        "version": 3
      },
      "file_extension": ".py",
      "mimetype": "text/x-python",
      "name": "python",
      "nbconvert_exporter": "python",
      "pygments_lexer": "ipython3",
      "version": "3.9.10"
    }
  },
  "nbformat": 4,
  "nbformat_minor": 5
}
